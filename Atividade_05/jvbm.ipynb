{
 "cells": [
  {
   "cell_type": "code",
   "execution_count": 2,
   "metadata": {},
   "outputs": [],
   "source": [
    "import random as rand\n",
    "from scipy.stats import norm\n",
    "import array\n",
    "from deap import base, creator, tools, algorithms, benchmarks\n",
    "import numpy as np\n",
    "from matplotlib import cm\n",
    "import matplotlib.pyplot as plt"
   ]
  },
  {
   "cell_type": "markdown",
   "metadata": {},
   "source": [
    "### A estratégia de evolução é um algoritmo de otimização global estocástico\n",
    "### Ele é um algoritmo evolutivo relacionado a outros, como o algoritmo genético, embora seja projetado especificamente para otimização contínua da função.\n",
    "#### Ao contrário de alguns algoritmos evolutivos, ele não usa cruzamento, ele limita a modificação de soluções a operações de mutação."
   ]
  },
  {
   "cell_type": "markdown",
   "metadata": {},
   "source": [
    "#### A população é inicialmente gerada aleatoriamente. Cada iteração do algoritmo envolve primeiro avaliar a população de soluções e, em seguida, excluir todas, exceto um subconjunto das melhores soluções, referidas como seleção de truncamento.\n",
    "####  As soluções restantes (os pais) são usadas como base para gerar uma série de novas soluções (mutação) que substituem ou competem com os pais por uma posição na população para consideração na próxima iteração do algoritmo (geração)."
   ]
  },
  {
   "cell_type": "markdown",
   "metadata": {},
   "source": [
    "##### Uma separação mais (+) dos parâmetros mu e lambda indica que as crianças e os pais juntos definirão a população para a próxima iteração.\n",
    "##### (mu + lambda)-ES: Uma versão das estratégias de evolução em que crianças e pais são adicionados à população.\n",
    "#### Um algoritmo estocástico de escalada pode ser implementado como uma Estratégia de Evolução e teria a notação (1 + 1)-ES."
   ]
  },
  {
   "cell_type": "code",
   "execution_count": 67,
   "metadata": {},
   "outputs": [],
   "source": [
    "# O tamanho da população é referido como lambda e o número de pais selecionados em cada iteração é referido como mu.\n",
    "# O número de filhos criados a partir de cada pai é calculado como (lambda / mu) e os parâmetros devem ser escolhidos \n",
    "# para que a divisão não tenha resto.\n",
    "# Permite que os pais compitam com as crianças pela seleção na próxima iteração do algoritmo.\n",
    "\n",
    "# mu: O número de pais selecionou cada iteração.\n",
    "# lambda: Tamanho da população.\n",
    "# lambda / mu: Número de filhos gerados a partir de cada pai selecionado.\n",
    "\n",
    "rand.seed(42)\n",
    "pop = 10000"
   ]
  },
  {
   "cell_type": "code",
   "execution_count": 135,
   "metadata": {},
   "outputs": [],
   "source": [
    "# Como foi pedido na atividade, roda o algoritmo no modelo de esfera.\n",
    "# A função avalia o fitness de cada indivíduo.\n",
    "# O fitness é a soma dos quadrados dos valores de cada indivíduo.\n",
    "# Em comparação com a atividade de Travelling salesman problem, que o fitness é representado pelo caminho, nesse caso o fitness desse problema é representado pela função \"fitness\"\n",
    "def fitNess(individuo):\n",
    "    # Avalia o fitness do indivíduo\n",
    "    ind = []\n",
    "    for i in individuo[0]:\n",
    "        for k in i:\n",
    "            ind.append(k[i]**2)\n",
    "        # ind.append([individuo[i]]**2)\n",
    "\n",
    "    return [sum(ind)]"
   ]
  },
  {
   "cell_type": "code",
   "execution_count": 136,
   "metadata": {},
   "outputs": [],
   "source": [
    "def normal(individuo):\n",
    "    # Faz a mutaçao do individuo\n",
    "    ind = []\n",
    "    for i in individuo[0]:\n",
    "        for k in ind:\n",
    "            ind.append(k[i] + norm.rvs(0, 1)) # Adiciona um valor aleatório ao individuo entre 0 e 1 usando a função normal, somando ao valor do indivíduo original.\n",
    "        # lista_ind.append(individuo[i] + norm.rvs(0,1)) \n",
    "    return [ind] "
   ]
  },
  {
   "cell_type": "code",
   "execution_count": 137,
   "metadata": {},
   "outputs": [],
   "source": [
    "def main(n):\n",
    "    # Cria o individuo\n",
    "    # Lista vazia dentro de uma lista vazia, onde a lista de fora representa a população e a lista de dentro representa o único indivíduo da população.  \n",
    "    individuo_pai = [[]]\n",
    "\n",
    "    \n",
    "    for j in range(n):\n",
    "        # gera uma distribuição uniforme e aleatória entre o intervalo -100 e 100\n",
    "        individuo_pai[0].append(rand.uniform(-100,100))\n",
    "    # avalia o fitness do individuo\n",
    "    melhor_pai = fitNess(individuo_pai)\n",
    "    print(melhor_pai)\n",
    "\n",
    "    for i in range(pop):\n",
    "        filho = normal(individuo_pai)\n",
    "        melhor_filho = fitNess(filho)\n",
    "\n",
    "        if melhor_filho[0] > 0:\n",
    "            # Se o filho for maior que zero, verifica se o pai é melhor que o filho, substitui o pai pelo filho\n",
    "            if melhor_filho[0] < melhor_pai[0]:\n",
    "                individuo_pai = filho\n",
    "                melhor_pai = melhor_filho\n",
    "        else:\n",
    "            # Se o filho for maior que zero, verifica se o pai é pior que o filho e substitui o filho pelo pai\n",
    "            if melhor_pai[0] < melhor_filho[0]:\n",
    "                individuo_pai = filho\n",
    "                melhor_pai = melhor_filho\n",
    "\n",
    "    return melhor_pai,individuo_pai"
   ]
  },
  {
   "cell_type": "code",
   "execution_count": 138,
   "metadata": {},
   "outputs": [
    {
     "ename": "TypeError",
     "evalue": "'float' object is not iterable",
     "output_type": "error",
     "traceback": [
      "\u001b[0;31m---------------------------------------------------------------------------\u001b[0m",
      "\u001b[0;31mTypeError\u001b[0m                                 Traceback (most recent call last)",
      "\u001b[0;32m<ipython-input-138-124410094cf0>\u001b[0m in \u001b[0;36m<module>\u001b[0;34m\u001b[0m\n\u001b[0;32m----> 1\u001b[0;31m \u001b[0mprint\u001b[0m\u001b[0;34m(\u001b[0m\u001b[0mmain\u001b[0m\u001b[0;34m(\u001b[0m\u001b[0;36m1\u001b[0m\u001b[0;34m)\u001b[0m\u001b[0;34m)\u001b[0m\u001b[0;34m\u001b[0m\u001b[0;34m\u001b[0m\u001b[0m\n\u001b[0m\u001b[1;32m      2\u001b[0m \u001b[0;31m# Os valores ideais dos indivíduos são os mais próximos de zero.\u001b[0m\u001b[0;34m\u001b[0m\u001b[0;34m\u001b[0m\u001b[0m\n",
      "\u001b[0;32m<ipython-input-137-89a0e6acbdaa>\u001b[0m in \u001b[0;36mmain\u001b[0;34m(n)\u001b[0m\n\u001b[1;32m      9\u001b[0m         \u001b[0mindividuo_pai\u001b[0m\u001b[0;34m[\u001b[0m\u001b[0;36m0\u001b[0m\u001b[0;34m]\u001b[0m\u001b[0;34m.\u001b[0m\u001b[0mappend\u001b[0m\u001b[0;34m(\u001b[0m\u001b[0mrand\u001b[0m\u001b[0;34m.\u001b[0m\u001b[0muniform\u001b[0m\u001b[0;34m(\u001b[0m\u001b[0;34m-\u001b[0m\u001b[0;36m100\u001b[0m\u001b[0;34m,\u001b[0m\u001b[0;36m100\u001b[0m\u001b[0;34m)\u001b[0m\u001b[0;34m)\u001b[0m\u001b[0;34m\u001b[0m\u001b[0;34m\u001b[0m\u001b[0m\n\u001b[1;32m     10\u001b[0m     \u001b[0;31m# avalia o fitness do individuo\u001b[0m\u001b[0;34m\u001b[0m\u001b[0;34m\u001b[0m\u001b[0m\n\u001b[0;32m---> 11\u001b[0;31m     \u001b[0mmelhor_pai\u001b[0m \u001b[0;34m=\u001b[0m \u001b[0mfitNess\u001b[0m\u001b[0;34m(\u001b[0m\u001b[0mindividuo_pai\u001b[0m\u001b[0;34m)\u001b[0m\u001b[0;34m\u001b[0m\u001b[0;34m\u001b[0m\u001b[0m\n\u001b[0m\u001b[1;32m     12\u001b[0m     \u001b[0mprint\u001b[0m\u001b[0;34m(\u001b[0m\u001b[0mmelhor_pai\u001b[0m\u001b[0;34m)\u001b[0m\u001b[0;34m\u001b[0m\u001b[0;34m\u001b[0m\u001b[0m\n\u001b[1;32m     13\u001b[0m \u001b[0;34m\u001b[0m\u001b[0m\n",
      "\u001b[0;32m<ipython-input-135-d2a4d4f9ef83>\u001b[0m in \u001b[0;36mfitNess\u001b[0;34m(individuo)\u001b[0m\n\u001b[1;32m      7\u001b[0m     \u001b[0mind\u001b[0m \u001b[0;34m=\u001b[0m \u001b[0;34m[\u001b[0m\u001b[0;34m]\u001b[0m\u001b[0;34m\u001b[0m\u001b[0;34m\u001b[0m\u001b[0m\n\u001b[1;32m      8\u001b[0m     \u001b[0;32mfor\u001b[0m \u001b[0mi\u001b[0m \u001b[0;32min\u001b[0m \u001b[0mindividuo\u001b[0m\u001b[0;34m[\u001b[0m\u001b[0;36m0\u001b[0m\u001b[0;34m]\u001b[0m\u001b[0;34m:\u001b[0m\u001b[0;34m\u001b[0m\u001b[0;34m\u001b[0m\u001b[0m\n\u001b[0;32m----> 9\u001b[0;31m         \u001b[0;32mfor\u001b[0m \u001b[0mk\u001b[0m \u001b[0;32min\u001b[0m \u001b[0mi\u001b[0m\u001b[0;34m:\u001b[0m\u001b[0;34m\u001b[0m\u001b[0;34m\u001b[0m\u001b[0m\n\u001b[0m\u001b[1;32m     10\u001b[0m             \u001b[0mind\u001b[0m\u001b[0;34m.\u001b[0m\u001b[0mappend\u001b[0m\u001b[0;34m(\u001b[0m\u001b[0mk\u001b[0m\u001b[0;34m[\u001b[0m\u001b[0mi\u001b[0m\u001b[0;34m]\u001b[0m\u001b[0;34m**\u001b[0m\u001b[0;36m2\u001b[0m\u001b[0;34m)\u001b[0m\u001b[0;34m\u001b[0m\u001b[0;34m\u001b[0m\u001b[0m\n\u001b[1;32m     11\u001b[0m             \u001b[0mprint\u001b[0m\u001b[0;34m(\u001b[0m\u001b[0mk\u001b[0m\u001b[0;34m)\u001b[0m\u001b[0;34m\u001b[0m\u001b[0;34m\u001b[0m\u001b[0m\n",
      "\u001b[0;31mTypeError\u001b[0m: 'float' object is not iterable"
     ]
    }
   ],
   "source": [
    "print(main(1))\n",
    "# Os valores ideais dos indivíduos são os mais próximos de zero."
   ]
  },
  {
   "cell_type": "code",
   "execution_count": 121,
   "metadata": {},
   "outputs": [
    {
     "name": "stdout",
     "output_type": "stream",
     "text": [
      "([0], [[-86.00523777473796, 32.84753698225447]])\n"
     ]
    }
   ],
   "source": [
    "print(main(2))"
   ]
  },
  {
   "cell_type": "code",
   "execution_count": 122,
   "metadata": {},
   "outputs": [
    {
     "name": "stdout",
     "output_type": "stream",
     "text": [
      "([0], [[-33.959992791480715, -37.21687098832807, 69.60305590126708]])\n"
     ]
    }
   ],
   "source": [
    "print(main(3))"
   ]
  },
  {
   "cell_type": "code",
   "execution_count": 123,
   "metadata": {},
   "outputs": [
    {
     "name": "stdout",
     "output_type": "stream",
     "text": [
      "([0], [[43.950852602790036, -39.935546357747164, -38.14306755826935, -18.321418276156635, -19.519922588455074, -40.868959494810596, -74.54244018816937, -15.910733245418342, 88.0727341460366, 35.46358905454659]])\n"
     ]
    }
   ],
   "source": [
    "print(main(10))"
   ]
  },
  {
   "cell_type": "code",
   "execution_count": 128,
   "metadata": {},
   "outputs": [
    {
     "name": "stdout",
     "output_type": "stream",
     "text": [
      "([0], [[41.89979231378683, -16.461208031303883, -76.96532546724035, -95.82868819505023, -35.04636411089723, 60.26443086209042, 23.62505266084804, 66.40518261434144, 83.95395034827692, -82.37402374042307, 68.8968719629394, -51.336705035453264, 17.77425766058238, 4.792508600126325, -20.846660628133407, -37.945087632827736, -32.09734377030722, -33.3862755013736, -66.37345839086268, 2.096656908429665, -77.19467203228949, 1.9904124645943995, 81.18454631601008, -30.12494690552394, 45.47582113478086, 63.78972030497039, 63.007401150002835, -52.74623021065514, -70.71115634446113, -60.54563943520335, 20.479797054633167, 52.04305910937842, 31.101802103747815, -64.57077421055416, 54.56961784951204, -1.1765949965222688, 50.88916504939715, 51.975429921549676, -10.218948600987403, 84.83085167713188, 12.898356680559857, 27.059663812118686, 24.90435588837896, 72.84937496628322, 25.443481379954363, -69.80851972138461, -86.34274830084878, -11.55838723274303, -39.435912972197414, -45.06526650276817, -88.76557595738439, 1.4673770579556304, -37.91842987873781, -9.617227259863554, -88.62198983320953, 66.3393263326243, -84.653799765309, 72.85000678504784, 71.05867429121807, 23.00167768311472, 1.4135634667910182, -7.457668214545549, 10.863274267660785, 58.3635594530717, 79.17535311136052, -10.053259269818753, 61.96318353959421, 30.36749092972198, -35.69464742391433, -4.8741944113860995, -69.8277846608723, -87.62525997977986, -79.29962454592167, 79.82536679115469, -31.312444832346472, 42.86310983349253, 0.9098003001914776, -65.48821771272702, -50.451255280343155, -12.4483451381534, -12.115641647475144, 4.5496070531091135, -68.25075840369172, -25.42960357973459, -43.42128427711642, -18.246120550535935, -32.326570631716095, 19.577172476597895, 57.845386312732956, 29.461071393861374, -86.81762914405651, -81.09881049698113, 35.675868968016204, -43.170605224377255, 44.74673100049236, 31.31281728209558, 81.26853943273545, 74.65593241210777, -33.327592787888676, 16.54790291728392]])\n"
     ]
    }
   ],
   "source": [
    "print(main(100))"
   ]
  },
  {
   "cell_type": "markdown",
   "metadata": {},
   "source": [
    "# --------------------------------------------------------------------------------------"
   ]
  }
 ],
 "metadata": {
  "interpreter": {
   "hash": "aee8b7b246df8f9039afb4144a1f6fd8d2ca17a180786b69acc140d282b71a49"
  },
  "kernelspec": {
   "display_name": "Python 3.9.9 64-bit",
   "language": "python",
   "name": "python3"
  },
  "language_info": {
   "codemirror_mode": {
    "name": "ipython",
    "version": 3
   },
   "file_extension": ".py",
   "mimetype": "text/x-python",
   "name": "python",
   "nbconvert_exporter": "python",
   "pygments_lexer": "ipython3",
   "version": "3.9.9"
  },
  "orig_nbformat": 4
 },
 "nbformat": 4,
 "nbformat_minor": 2
}
