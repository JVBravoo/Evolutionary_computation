{
 "cells": [
  {
   "cell_type": "code",
   "execution_count": 1,
   "metadata": {},
   "outputs": [],
   "source": [
    "import random as rand\n",
    "from scipy.stats import norm\n",
    "import array\n",
    "from deap import base, creator, tools, algorithms, benchmarks\n",
    "import numpy as np\n",
    "from matplotlib import cm\n",
    "import matplotlib.pyplot as plt"
   ]
  },
  {
   "cell_type": "markdown",
   "metadata": {},
   "source": [
    "### A estratégia de evolução é um algoritmo de otimização global estocástico\n",
    "### Ele é um algoritmo evolutivo relacionado a outros, como o algoritmo genético, embora seja projetado especificamente para otimização contínua da função.\n",
    "#### Ao contrário de alguns algoritmos evolutivos, ele não usa cruzamento, ele limita a modificação de soluções a operações de mutação."
   ]
  },
  {
   "cell_type": "markdown",
   "metadata": {},
   "source": [
    "#### A população é inicialmente gerada aleatoriamente. Cada iteração do algoritmo envolve primeiro avaliar a população de soluções e, em seguida, excluir todas, exceto um subconjunto das melhores soluções, referidas como seleção de truncamento.\n",
    "####  As soluções restantes (os pais) são usadas como base para gerar uma série de novas soluções (mutação) que substituem ou competem com os pais por uma posição na população para consideração na próxima iteração do algoritmo (geração)."
   ]
  },
  {
   "cell_type": "markdown",
   "metadata": {},
   "source": [
    "##### Uma separação mais (+) dos parâmetros mu e lambda indica que as crianças e os pais juntos definirão a população para a próxima iteração.\n",
    "##### (mu + lambda)-ES: Uma versão das estratégias de evolução em que crianças e pais são adicionados à população.\n",
    "#### Um algoritmo estocástico de escalada pode ser implementado como uma Estratégia de Evolução e teria a notação (1 + 1)-ES."
   ]
  },
  {
   "cell_type": "code",
   "execution_count": 2,
   "metadata": {},
   "outputs": [],
   "source": [
    "# O tamanho da população é referido como lambda e o número de pais selecionados em cada iteração é referido como mu.\n",
    "# O número de filhos criados a partir de cada pai é calculado como (lambda / mu) e os parâmetros devem ser escolhidos \n",
    "# para que a divisão não tenha resto.\n",
    "# Permite que os pais compitam com as crianças pela seleção na próxima iteração do algoritmo.\n",
    "\n",
    "# mu: O número de pais selecionou cada iteração.\n",
    "# lambda: Tamanho da população.\n",
    "# lambda / mu: Número de filhos gerados a partir de cada pai selecionado.\n",
    "\n",
    "rand.seed(42)\n",
    "pop = 10000"
   ]
  },
  {
   "cell_type": "code",
   "execution_count": 3,
   "metadata": {},
   "outputs": [],
   "source": [
    "# Como foi pedido na atividade, roda o algoritmo no modelo de esfera.\n",
    "# A função avalia o fitness de cada indivíduo.\n",
    "# O fitness é a soma dos quadrados dos valores de cada indivíduo.\n",
    "# Em comparação com a atividade de Travelling salesman problem, que o fitness é representado pelo caminho, nesse caso o fitness desse problema é representado pela função \"fitness\"\n",
    "def fitNess(individuo):\n",
    "    # Avalia o fitness do indivíduo\n",
    "    ind = []\n",
    "    \n",
    "    for i in range(len(individuo)):\n",
    "        ind.append(individuo[i]**2)\n",
    "\n",
    "    return sum(ind)"
   ]
  },
  {
   "cell_type": "code",
   "execution_count": 4,
   "metadata": {},
   "outputs": [],
   "source": [
    "def mutacao(individuo):\n",
    "    # Faz a mutaçao do individuo\n",
    "    lista_ind = []\n",
    "    for i in range(len(individuo)):\n",
    "        lista_ind.append(individuo[i] + norm.rvs(0,1)) # Adiciona um valor aleatório ao individuo entre 0 e 1 usando a função normal, somando ao valor do indivíduo original.\n",
    "    return lista_ind"
   ]
  },
  {
   "cell_type": "code",
   "execution_count": 5,
   "metadata": {},
   "outputs": [],
   "source": [
    "def main(n):\n",
    "    # Cria o individuo\n",
    "    individuo_pai = []\n",
    "    \n",
    "    for j in range(n):\n",
    "        # gera uma distribuição uniforme e aleatória entre o intervalo -100 e 100\n",
    "        individuo_pai.append(rand.uniform(-100,100))\n",
    "    # avalia o fitness do individuo\n",
    "    melhor_pai = fitNess(individuo_pai)\n",
    "\n",
    "    for i in range(pop):\n",
    "        filho = mutacao(individuo_pai)\n",
    "        melhor_filho = fitNess(filho)\n",
    "\n",
    "        if melhor_filho > 0:\n",
    "            # Se o filho for maior que zero, verifica se o pai é melhor que o filho, substitui o pai pelo filho\n",
    "            if melhor_filho < melhor_pai:\n",
    "                individuo_pai = filho\n",
    "                melhor_pai = melhor_filho\n",
    "        else:\n",
    "            # Se o filho for menor que zero, verifica se o pai é pior que o filho e substitui o filho pelo pai\n",
    "            if melhor_pai < melhor_filho:\n",
    "                individuo_pai = filho\n",
    "                melhor_pai = melhor_filho\n",
    "\n",
    "    return melhor_pai,individuo_pai"
   ]
  },
  {
   "cell_type": "code",
   "execution_count": 9,
   "metadata": {},
   "outputs": [
    {
     "name": "stdout",
     "output_type": "stream",
     "text": [
      "(0.044384143304849036, [-0.12861146377206856, -0.08558182208158718, 0.09336627376098093, -0.061848880037042406, -0.0893109253260965])\n"
     ]
    }
   ],
   "source": [
    "print(main(5))"
   ]
  },
  {
   "cell_type": "code",
   "execution_count": 10,
   "metadata": {},
   "outputs": [
    {
     "name": "stdout",
     "output_type": "stream",
     "text": [
      "(0.7814234561395683, [-0.6112798107092955, 0.13281769185707354, -0.1376605738779394, 0.38216747664259954, -0.3737255781783951, 0.03580973453218822, -0.24125769952932263, -0.10658914984893586, 0.10291536082711988, 0.06329498614299972])\n"
     ]
    }
   ],
   "source": [
    "print(main(10))\n",
    "# Os valores ideais dos indivíduos são os mais próximos de zero."
   ]
  },
  {
   "cell_type": "code",
   "execution_count": 11,
   "metadata": {},
   "outputs": [
    {
     "name": "stdout",
     "output_type": "stream",
     "text": [
      "(43.89859007474079, [0.28489743549700974, 1.6963111987027228, -0.23986190313615122, 0.2791988158866563, -0.24094306419060563, -0.02195962067068502, 1.2772736396163, -0.3710057949483138, -0.6392671362877291, 0.6181308574427433, -2.287921005639525, 0.44972864251787154, -0.7232755144491205, -0.3618119791814606, 0.009118497795749483, 1.6544717234741475, 0.6789335260198318, 1.4371849293963919, 0.5327145540281847, -0.07046808870820387, 1.805501435820549, 0.9017778038262636, -0.5257803431479917, 1.8536669802473655, 1.209862382058659, 0.13395288184308818, 0.3691874391322454, 1.4197706066212523, 1.1202987853436843, 0.9242965352561794, 1.1343467215064282, -0.4050057242717844, -0.4248475355464726, 0.6664624706940221, -0.5324170496869807, 1.2725617685308273, -0.38377095249445403, 1.0107928912604565, 1.8676502323636304, 0.6230011583308082, -0.634320791853739, -0.4047148978015404, 0.195077510117318, 0.3653917315639361, -0.4669044392396373, -1.1660379616568908, -0.015398325942859614, -1.0946139192141513, 0.21421462251917284, 0.6563026381022672])\n"
     ]
    }
   ],
   "source": [
    "print(main(50))"
   ]
  },
  {
   "cell_type": "code",
   "execution_count": 12,
   "metadata": {},
   "outputs": [
    {
     "name": "stdout",
     "output_type": "stream",
     "text": [
      "(260.11219962535273, [-0.08945161292811338, 3.5011502059208457, -0.0941368194138448, 0.6679099776610165, 0.2837660955753145, -3.4882320327071947, 0.9040107432418563, -0.9124575258762782, -0.8382056649208314, -1.9183575116407545, -1.9791885913168712, -1.4925083651913542, -0.5297407042409262, -1.263836809805685, -0.44210338141910177, 2.347334666757197, -1.520968694457556, 0.13886227775735877, -0.48407707494543084, -1.1982350900096943, -1.6701696869490572, -2.63278818788753, 0.5126059198888252, 1.4249814064391768, 0.9460204205770104, 0.957438314936612, 1.0818507356497624, 1.1803548053855994, -2.8726674300296806, 0.655192343881062, -1.6964734209299202, -3.251221812347016, 0.9306281556763999, 2.0882057702146573, 2.178018018904669, -4.254166621142812, -1.4497327496257233, 0.8364689803804923, 1.3866076689981421, -2.311877855513809, 0.7804744558363468, 1.027652424512899, -0.04949936597899662, -0.2633419774924275, -0.30684499665055065, 0.5023282394530264, 0.10404243788161516, -0.31987549741274107, -1.7166194739002338, 0.6126413053578027, -0.6044641225500367, 0.8040344922058951, 1.5230759150021116, -1.4011590174574773, -1.0013799328949107, 1.0768718740439474, 1.3356313863016769, -0.3380834232968226, -1.191277275049425, 3.166912049414498, 0.9421918512009504, -2.8210378223224075, -0.3527419827083996, 2.7624742803432056, -1.307541256753123, -1.998350916503489, 2.724524483307263, -2.966049389217879, -0.00335612468450186, 1.6922002384219794, 2.859055279251626, -0.7586616128188304, 1.5505974858404201, -0.16950548587243314, 0.07470645888041871, 1.0627981364244894, -0.7954917328258554, 3.1315761822118824, -0.19960419682883385, 1.2497842288951326, 1.4605410591806505, 3.2778418343003537, -0.7551211316107165, 0.9870407364534528, -0.41280611391350175, -0.7969373770922642, 0.4565765874388368, 0.1296904967261645, -2.427576147971195, -0.8855466000686149, 1.3169320575452264, 0.002402327019093875, 1.0864571567396872, 0.15682989311584405, 0.41478745712001386, 1.3302473701571205, -1.6858994659566249, -0.9298495676910989, -1.3087137223824152, 3.1970845230139204])\n"
     ]
    }
   ],
   "source": [
    "print(main(100))"
   ]
  },
  {
   "cell_type": "markdown",
   "metadata": {},
   "source": [
    "# --------------------------------------------------------------------------------------"
   ]
  }
 ],
 "metadata": {
  "interpreter": {
   "hash": "aee8b7b246df8f9039afb4144a1f6fd8d2ca17a180786b69acc140d282b71a49"
  },
  "kernelspec": {
   "display_name": "Python 3.9.9 64-bit",
   "language": "python",
   "name": "python3"
  },
  "language_info": {
   "codemirror_mode": {
    "name": "ipython",
    "version": 3
   },
   "file_extension": ".py",
   "mimetype": "text/x-python",
   "name": "python",
   "nbconvert_exporter": "python",
   "pygments_lexer": "ipython3",
   "version": "3.9.9"
  },
  "orig_nbformat": 4
 },
 "nbformat": 4,
 "nbformat_minor": 2
}
