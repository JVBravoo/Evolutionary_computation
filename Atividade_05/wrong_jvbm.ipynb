{
 "cells": [
  {
   "cell_type": "code",
   "execution_count": 1,
   "metadata": {},
   "outputs": [],
   "source": [
    "import array\n",
    "from deap import base, creator, tools, algorithms, benchmarks\n",
    "import numpy as np\n",
    "import random\n",
    "from matplotlib import cm\n",
    "import matplotlib.pyplot as plt"
   ]
  },
  {
   "cell_type": "markdown",
   "metadata": {},
   "source": [
    "### A estratégia de evolução é um algoritmo de otimização global estocástico\n",
    "### Ele é um algoritmo evolutivo relacionado a outros, como o algoritmo genético, embora seja projetado especificamente para otimização contínua da função.\n",
    "#### Ao contrário de alguns algoritmos evolutivos, ele não usa cruzamento, ele limita a modificação de soluções a operações de mutação."
   ]
  },
  {
   "cell_type": "markdown",
   "metadata": {},
   "source": [
    "#### A população é inicialmente gerada aleatoriamente. Cada iteração do algoritmo envolve primeiro avaliar a população de soluções e, em seguida, excluir todas, exceto um subconjunto das melhores soluções, referidas como seleção de truncamento.\n",
    "####  As soluções restantes (os pais) são usadas como base para gerar uma série de novas soluções (mutação) que substituem ou competem com os pais por uma posição na população para consideração na próxima iteração do algoritmo (geração)."
   ]
  },
  {
   "cell_type": "markdown",
   "metadata": {},
   "source": [
    "##### Uma separação mais (+) dos parâmetros mu e lambda indica que as crianças e os pais juntos definirão a população para a próxima iteração.\n",
    "##### (mu + lambda)-ES: Uma versão das estratégias de evolução em que crianças e pais são adicionados à população.\n",
    "#### Um algoritmo estocástico de escalada pode ser implementado como uma Estratégia de Evolução e teria a notação (1 + 1)-ES."
   ]
  },
  {
   "cell_type": "code",
   "execution_count": 11,
   "metadata": {},
   "outputs": [],
   "source": [
    "# O tamanho da população é referido como lambda e o número de pais selecionados em cada iteração é referido como mu.\n",
    "# O número de filhos criados a partir de cada pai é calculado como (lambda / mu) e os parâmetros devem ser escolhidos \n",
    "# para que a divisão não tenha resto.\n",
    "# Permite que os pais compitam com as crianças pela seleção na próxima iteração do algoritmo.\n",
    "\n",
    "# mu: O número de pais selecionou cada iteração.\n",
    "# lambda: Tamanho da população.\n",
    "# lambda / mu: Número de filhos gerados a partir de cada pai selecionado.\n",
    "\n",
    "random.seed(42)\n",
    "# Como foi pedido na atividade, roda o algoritmo no modelo de esfera.\n",
    "current_problem = benchmarks.sphere"
   ]
  },
  {
   "cell_type": "code",
   "execution_count": 33,
   "metadata": {},
   "outputs": [],
   "source": [
    "def plot_problem_3d(problem, bounds, resolution=100., \n",
    "                    cmap=cm.viridis_r, rstride=10, cstride=10, \n",
    "                    linewidth=0.15, alpha=0.65, ax=None):\n",
    "    'Plots a given deap benchmark problem in 3D mesh.'\n",
    "    (minx,miny),(maxx,maxy) = bounds\n",
    "    x_range = np.arange(minx, maxx, (maxx-minx)/resolution)\n",
    "    y_range = np.arange(miny, maxy, (maxy-miny)/resolution)\n",
    "    \n",
    "    X, Y = np.meshgrid(x_range, y_range)\n",
    "    Z = np.zeros((len(x_range), len(y_range)))\n",
    "    \n",
    "    for i in range(len(x_range)):\n",
    "        for j in range(len(y_range)):\n",
    "            Z[i,j] = problem((x_range[i], y_range[j]))[0]\n",
    "    \n",
    "    if not ax:\n",
    "        fig = plt.figure(figsize=(11,6))\n",
    "        ax = fig.gca(projection='3d')\n",
    "        \n",
    "    cset = ax.plot_surface(X, Y, Z, cmap=cmap, rstride=rstride, cstride=cstride, linewidth=linewidth, alpha=alpha)"
   ]
  },
  {
   "cell_type": "code",
   "execution_count": 34,
   "metadata": {},
   "outputs": [],
   "source": [
    "def plot_problem_controur(problem, bounds, optimum=None,\n",
    "                          resolution=100., cmap=cm.viridis_r, \n",
    "                          rstride=1, cstride=10, linewidth=0.15,\n",
    "                          alpha=0.65, ax=None):\n",
    "    'Plots a given deap benchmark problem as a countour plot'\n",
    "    (minx,miny),(maxx,maxy) = bounds\n",
    "    x_range = np.arange(minx, maxx, (maxx-minx)/resolution)\n",
    "    y_range = np.arange(miny, maxy, (maxy-miny)/resolution)\n",
    "    \n",
    "    X, Y = np.meshgrid(x_range, y_range)\n",
    "    Z = np.zeros((len(x_range), len(y_range)))\n",
    "    \n",
    "    for i in range(len(x_range)):\n",
    "        for j in range(len(y_range)):\n",
    "            Z[i,j] = problem((x_range[i], y_range[j]))[0]\n",
    "    \n",
    "    if not ax:\n",
    "        fig = plt.figure(figsize=(6,6))\n",
    "        ax = fig.gca()\n",
    "        ax.set_aspect('equal')\n",
    "        ax.autoscale(tight=True)\n",
    "    \n",
    "    cset = ax.contourf(X, Y, Z, cmap=cmap, rstride=rstride, cstride=cstride, linewidth=linewidth, alpha=alpha)\n",
    "    \n",
    "    if optimum:\n",
    "        ax.plot(optimum[0], optimum[1], 'bx', linewidth=4, markersize=15)"
   ]
  },
  {
   "cell_type": "code",
   "execution_count": 35,
   "metadata": {},
   "outputs": [],
   "source": [
    "def plot_cov_ellipse(pos, cov, volume=.99, ax=None, fc='lightblue', ec='darkblue', alpha=1, lw=1):\n",
    "    ''' Plots an ellipse that corresponds to a bivariate normal distribution.\n",
    "    Adapted from http://www.nhsilbert.net/source/2014/06/bivariate-normal-ellipse-plotting-in-python/'''\n",
    "    from scipy.stats import chi2\n",
    "    from matplotlib.patches import Ellipse\n",
    "\n",
    "    def eigsorted(cov):\n",
    "        vals, vecs = np.linalg.eigh(cov)\n",
    "        order = vals.argsort()[::-1]\n",
    "        return vals[order], vecs[:,order]\n",
    "\n",
    "    if ax is None:\n",
    "        ax = plt.gca()\n",
    "\n",
    "    vals, vecs = eigsorted(cov)\n",
    "    theta = np.degrees(np.arctan2(*vecs[:,0][::-1]))\n",
    "\n",
    "    kwrg = {'facecolor':fc, 'edgecolor':ec, 'alpha':alpha, 'linewidth':lw}\n",
    "\n",
    "    # Width and height are \"full\" widths, not radius\n",
    "    width, height = 2 * np.sqrt(chi2.ppf(volume,2)) * np.sqrt(vals)\n",
    "    ellip = Ellipse(xy=pos, width=width, height=height, angle=theta, **kwrg)\n",
    "    ax.add_artist(ellip)"
   ]
  },
  {
   "cell_type": "code",
   "execution_count": 2,
   "metadata": {},
   "outputs": [],
   "source": [
    "search_space_dims = 2 # Plotar indivíduos, por isso 2...\n",
    "\n",
    "MIN_VALUE, MAX_VALUE = -10., 10.\n",
    "MIN_STRAT, MAX_STRAT = 0.0000001, 1."
   ]
  },
  {
   "cell_type": "code",
   "execution_count": 3,
   "metadata": {},
   "outputs": [],
   "source": [
    "# Problema de minimização\n",
    "creator.create(\"FitnessMin\", base.Fitness, weights=(-1.0,))\n",
    "\n",
    "# Estratégias evolucionárias precisão de um local (mean)\n",
    "creator.create(\"Individual\", array.array, typecode='d', \n",
    "               fitness=creator.FitnessMin, strategy=None)\n",
    "# Um valor para o parâmetro estratégia.\n",
    "creator.create(\"Strategy\", array.array, typecode=\"d\")"
   ]
  },
  {
   "cell_type": "code",
   "execution_count": 4,
   "metadata": {},
   "outputs": [],
   "source": [
    "# inicializa a estratégia de avaliação do indivíduo\n",
    "def init_es_ind(individual_class, strategy_class,\n",
    "                           size, min_value, max_value, \n",
    "                           min_strat, max_strat):\n",
    "    ind = individual_class(random.uniform(min_value, max_value) \n",
    "                           for _ in range(size))\n",
    "    # Modifica a instância para incluir a estratégia em run-time.\n",
    "    ind.strategy = strategy_class(random.uniform(min_strat, max_strat) for _ in range(size))\n",
    "    return ind"
   ]
  },
  {
   "cell_type": "code",
   "execution_count": 5,
   "metadata": {},
   "outputs": [],
   "source": [
    "toolbox = base.Toolbox() \n",
    "toolbox.register(\"individual\", init_es_ind, \n",
    "                 creator.Individual, \n",
    "                 creator.Strategy,\n",
    "                 search_space_dims, \n",
    "                 MIN_VALUE, MAX_VALUE, \n",
    "                 MIN_STRAT, MAX_STRAT)\n",
    "toolbox.register(\"population\", tools.initRepeat, list, \n",
    "                 toolbox.individual)"
   ]
  },
  {
   "cell_type": "code",
   "execution_count": 6,
   "metadata": {},
   "outputs": [],
   "source": [
    "ind = toolbox.individual()\n",
    "pop = toolbox.population(n=100)"
   ]
  },
  {
   "cell_type": "code",
   "execution_count": 7,
   "metadata": {},
   "outputs": [],
   "source": [
    "def plot_individual(individual, ax=None):\n",
    "    'Plots an ES indiviual as center and 3*sigma ellipsis.'\n",
    "    cov = np.eye(len(individual)) * individual.strategy\n",
    "    plot_cov_ellipse(individual, cov, volume=0.99, alpha=0.56, ax=ax)\n",
    "    if ax:\n",
    "        ax.scatter(individual[0], individual[1], \n",
    "                    marker='+', color='k', zorder=100)\n",
    "    else:\n",
    "        plt.scatter(individual[0], individual[1], \n",
    "                    marker='+', color='k', zorder=100)\n",
    "\n",
    "    \n",
    "def plot_population(pop, gen=None, max_gen=None, ax=None):\n",
    "    if gen:\n",
    "        plt.subplot(max_gen, 1, gen)\n",
    "        \n",
    "    for ind in pop:\n",
    "        plot_individual(ind, ax)"
   ]
  },
  {
   "cell_type": "code",
   "execution_count": 8,
   "metadata": {},
   "outputs": [],
   "source": [
    "toolbox.register(\"mutate\", tools.mutGaussian, mu=0, sigma=1, indpb=0.2)"
   ]
  },
  {
   "cell_type": "code",
   "execution_count": 9,
   "metadata": {},
   "outputs": [
    {
     "ename": "NameError",
     "evalue": "name 'current_problem' is not defined",
     "output_type": "error",
     "traceback": [
      "\u001b[0;31m---------------------------------------------------------------------------\u001b[0m",
      "\u001b[0;31mNameError\u001b[0m                                 Traceback (most recent call last)",
      "\u001b[0;32m<ipython-input-9-4b58d6f1140f>\u001b[0m in \u001b[0;36m<module>\u001b[0;34m\u001b[0m\n\u001b[1;32m      1\u001b[0m \u001b[0mtoolbox\u001b[0m\u001b[0;34m.\u001b[0m\u001b[0mregister\u001b[0m\u001b[0;34m(\u001b[0m\u001b[0;34m\"mate\"\u001b[0m\u001b[0;34m,\u001b[0m \u001b[0mtools\u001b[0m\u001b[0;34m.\u001b[0m\u001b[0mcxTwoPoint\u001b[0m\u001b[0;34m)\u001b[0m\u001b[0;34m\u001b[0m\u001b[0;34m\u001b[0m\u001b[0m\n\u001b[0;32m----> 2\u001b[0;31m \u001b[0mtoolbox\u001b[0m\u001b[0;34m.\u001b[0m\u001b[0mregister\u001b[0m\u001b[0;34m(\u001b[0m\u001b[0;34m\"evaluate\"\u001b[0m\u001b[0;34m,\u001b[0m \u001b[0mcurrent_problem\u001b[0m\u001b[0;34m)\u001b[0m\u001b[0;34m\u001b[0m\u001b[0;34m\u001b[0m\u001b[0m\n\u001b[0m\u001b[1;32m      3\u001b[0m \u001b[0mtoolbox\u001b[0m\u001b[0;34m.\u001b[0m\u001b[0mregister\u001b[0m\u001b[0;34m(\u001b[0m\u001b[0;34m\"select\"\u001b[0m\u001b[0;34m,\u001b[0m \u001b[0mtools\u001b[0m\u001b[0;34m.\u001b[0m\u001b[0mselTournament\u001b[0m\u001b[0;34m,\u001b[0m \u001b[0mtournsize\u001b[0m\u001b[0;34m=\u001b[0m\u001b[0;36m3\u001b[0m\u001b[0;34m)\u001b[0m\u001b[0;34m\u001b[0m\u001b[0;34m\u001b[0m\u001b[0m\n",
      "\u001b[0;31mNameError\u001b[0m: name 'current_problem' is not defined"
     ]
    }
   ],
   "source": [
    "toolbox.register(\"mate\", tools.cxTwoPoint)\n",
    "toolbox.register(\"evaluate\", current_problem)\n",
    "toolbox.register(\"select\", tools.selTournament, tournsize=3)"
   ]
  },
  {
   "cell_type": "code",
   "execution_count": 46,
   "metadata": {},
   "outputs": [
    {
     "name": "stdout",
     "output_type": "stream",
     "text": [
      "gen\tnevals\tavg    \tstd    \tmin     \tmax    \n",
      "0  \t10    \t54.5356\t41.8836\t0.382848\t108.342\n",
      "1  \t10    \t10.7   \t23.6494\t0.382848\t81.3168\n",
      "2  \t9     \t1.87169\t2.33689\t0.382848\t8.10753\n",
      "3  \t10    \t0.284056\t0.080663\t0.218195\t0.382848\n",
      "4  \t9     \t0.251126\t0.065861\t0.218195\t0.382848\n",
      "5  \t9     \t0.218195\t0       \t0.218195\t0.218195\n",
      "6  \t9     \t0.203238\t0.0299146\t0.143408\t0.218195\n",
      "7  \t9     \t0.203238\t0.0299146\t0.143408\t0.218195\n",
      "8  \t8     \t0.18828 \t0.0366378\t0.143408\t0.218195\n",
      "9  \t9     \t0.158366\t0.0299146\t0.143408\t0.218195\n",
      "10 \t8     \t0.143408\t2.77556e-17\t0.143408\t0.143408\n",
      "11 \t10    \t0.143408\t2.77556e-17\t0.143408\t0.143408\n",
      "12 \t10    \t0.143408\t2.77556e-17\t0.143408\t0.143408\n",
      "13 \t10    \t0.143408\t2.77556e-17\t0.143408\t0.143408\n",
      "14 \t9     \t0.143408\t2.77556e-17\t0.143408\t0.143408\n",
      "15 \t9     \t0.143408\t2.77556e-17\t0.143408\t0.143408\n",
      "16 \t10    \t0.143408\t2.77556e-17\t0.143408\t0.143408\n",
      "17 \t8     \t0.143408\t2.77556e-17\t0.143408\t0.143408\n",
      "18 \t10    \t0.143408\t2.77556e-17\t0.143408\t0.143408\n",
      "19 \t10    \t0.143408\t2.77556e-17\t0.143408\t0.143408\n",
      "20 \t8     \t0.143408\t2.77556e-17\t0.143408\t0.143408\n",
      "21 \t8     \t0.143408\t2.77556e-17\t0.143408\t0.143408\n",
      "22 \t7     \t0.143408\t2.77556e-17\t0.143408\t0.143408\n",
      "23 \t10    \t0.143408\t2.77556e-17\t0.143408\t0.143408\n",
      "24 \t9     \t0.143408\t2.77556e-17\t0.143408\t0.143408\n",
      "25 \t10    \t0.143408\t2.77556e-17\t0.143408\t0.143408\n",
      "26 \t7     \t0.143408\t2.77556e-17\t0.143408\t0.143408\n",
      "27 \t10    \t0.143408\t2.77556e-17\t0.143408\t0.143408\n",
      "28 \t9     \t0.143408\t2.77556e-17\t0.143408\t0.143408\n",
      "29 \t9     \t0.130185\t0.0396703  \t0.0111741\t0.143408\n",
      "30 \t9     \t0.0772912\t0.0661171  \t0.0111741\t0.143408\n",
      "31 \t9     \t0.037621 \t0.0528937  \t0.0111741\t0.143408\n",
      "32 \t10    \t0.0111741\t0          \t0.0111741\t0.0111741\n",
      "33 \t9     \t0.0111741\t0          \t0.0111741\t0.0111741\n",
      "34 \t10    \t0.0111741\t0          \t0.0111741\t0.0111741\n",
      "35 \t10    \t0.0111741\t0          \t0.0111741\t0.0111741\n",
      "36 \t8     \t0.0111741\t0          \t0.0111741\t0.0111741\n",
      "37 \t9     \t0.0111741\t0          \t0.0111741\t0.0111741\n",
      "38 \t9     \t0.0111741\t0          \t0.0111741\t0.0111741\n",
      "39 \t9     \t0.0111741\t0          \t0.0111741\t0.0111741\n",
      "40 \t10    \t0.0111741\t0          \t0.0111741\t0.0111741\n"
     ]
    }
   ],
   "source": [
    "n=100\n",
    "\n",
    "pop = toolbox.population(n=n)\n",
    "hof = tools.HallOfFame(1)\n",
    "\n",
    "# lambda é a quantidade de indíviduos que serão selecionados para reprodução.\n",
    "# Quanto melhor o fitness maior a probabilidade de seleção.\n",
    "# Pode acontecer de um indivíduo ser selecionado mais de uma vez.\n",
    "# O valor de mu é o número de indivíduos que serão selecionados para reprodução.\n",
    "# Se caso em uma mutação o resultado forem muito ruins, eles reaproveitam o resultado dos pais.\n",
    "\n",
    "pop_stats = tools.Statistics(lambda ind: ind.fitness.values)\n",
    "pop_stats.register(\"avg\", np.mean)\n",
    "pop_stats.register(\"std\", np.std)\n",
    "pop_stats.register(\"min\", np.min)\n",
    "pop_stats.register(\"max\", np.max)\n",
    "    \n",
    "pop, logbook = algorithms.eaMuPlusLambda(pop, toolbox, mu=n, lambda_=n, \n",
    "        cxpb=0.6, mutpb=0.3, ngen=40, stats=pop_stats, halloffame=hof)"
   ]
  },
  {
   "cell_type": "code",
   "execution_count": 47,
   "metadata": {},
   "outputs": [
    {
     "name": "stderr",
     "output_type": "stream",
     "text": [
      "<ipython-input-34-87099329b85c>:23: UserWarning: The following kwargs were not used by contour: 'rstride', 'cstride', 'linewidth'\n",
      "  cset = ax.contourf(X, Y, Z, cmap=cmap, rstride=rstride, cstride=cstride, linewidth=linewidth, alpha=alpha)\n"
     ]
    },
    {
     "data": {
      "image/png": "[encoded data removed]",
      "text/plain": [
       "<Figure size 432x432 with 1 Axes>"
      ]
     },
     "metadata": {
      "needs_background": "light"
     },
     "output_type": "display_data"
    }
   ],
   "source": [
    "plot_problem_controur(current_problem, ((-10,-10), (10,10)), optimum=(0,0))\n",
    "plot_population(pop)"
   ]
  },
  {
   "cell_type": "code",
   "execution_count": 62,
   "metadata": {},
   "outputs": [
    {
     "name": "stdout",
     "output_type": "stream",
     "text": [
      "gen\tnevals\tavg    \tstd    \tmin     \tmax    \n",
      "0  \t100   \t61.5868\t40.7929\t0.697124\t153.742\n",
      "1  \t88    \t27.7236\t21.814 \t1.17502 \t110.264\n",
      "2  \t90    \t10.842 \t9.21868\t0.746995\t56.9522\n",
      "3  \t92    \t4.76716\t3.47022\t0.746995\t20.0558\n",
      "4  \t95    \t2.36858\t1.20392\t0.422322\t5.23476\n",
      "5  \t95    \t1.37737\t0.896435\t0.190421\t3.11221\n",
      "6  \t91    \t0.733613\t0.420885\t0.190421\t2.85161\n",
      "7  \t94    \t0.419778\t0.265102\t0.0631205\t0.850044\n",
      "8  \t92    \t0.19677 \t0.161355\t0.0631205\t0.850044\n",
      "9  \t89    \t0.0963107\t0.0551627\t0.0631205\t0.190421\n",
      "10 \t95    \t0.0635806\t0.0158695\t0.000705537\t0.190421\n",
      "11 \t91    \t0.0592312\t0.0143366\t0.000705537\t0.0631205\n",
      "12 \t90    \t0.0497286\t0.0235066\t0.000705537\t0.0631205\n",
      "13 \t94    \t0.0421779\t0.0270235\t0.000705537\t0.0631205\n",
      "14 \t92    \t0.025508 \t0.0267818\t0.000705537\t0.0631205\n",
      "15 \t88    \t0.00663002\t0.0105012\t0.000705537\t0.0631205\n",
      "16 \t89    \t0.0024205 \t0.00228832\t0.000705537\t0.00955629\n",
      "17 \t86    \t0.0012413 \t0.00122758\t0.000705537\t0.00405402\n",
      "18 \t96    \t0.000705537\t1.0842e-19\t0.000705537\t0.000705537\n",
      "19 \t90    \t0.000705537\t1.0842e-19\t0.000705537\t0.000705537\n",
      "20 \t92    \t0.000705537\t1.0842e-19\t0.000705537\t0.000705537\n",
      "21 \t91    \t0.000705537\t1.0842e-19\t0.000705537\t0.000705537\n",
      "22 \t89    \t0.000705537\t1.0842e-19\t0.000705537\t0.000705537\n",
      "23 \t88    \t0.000705537\t1.0842e-19\t0.000705537\t0.000705537\n",
      "24 \t90    \t0.000705537\t1.0842e-19\t0.000705537\t0.000705537\n",
      "25 \t91    \t0.000695046\t5.96543e-05\t0.000355837\t0.000705537\n",
      "26 \t95    \t0.00069372 \t6.01416e-05\t0.000355837\t0.000705537\n",
      "27 \t92    \t0.000673401\t0.000100087\t0.000355837\t0.000705537\n",
      "28 \t91    \t0.00118665 \t0.0058041  \t0.000319846\t0.0589154  \n",
      "29 \t89    \t0.000459622\t0.000163894\t0.000319846\t0.000705537\n",
      "30 \t94    \t0.000372095\t9.28008e-05\t0.00028952 \t0.000705537\n",
      "31 \t91    \t0.000334963\t1.77637e-05\t0.000319846\t0.000355837\n",
      "32 \t91    \t0.000322006\t8.54739e-06\t0.000319846\t0.000355837\n",
      "33 \t94    \t0.000319846\t5.42101e-20\t0.000319846\t0.000319846\n",
      "34 \t89    \t0.000319846\t5.42101e-20\t0.000319846\t0.000319846\n",
      "35 \t89    \t0.000319846\t5.42101e-20\t0.000319846\t0.000319846\n",
      "36 \t93    \t0.000319846\t5.42101e-20\t0.000319846\t0.000319846\n",
      "37 \t93    \t0.000319846\t5.42101e-20\t0.000319846\t0.000319846\n",
      "38 \t91    \t0.000319846\t5.42101e-20\t0.000319846\t0.000319846\n",
      "39 \t88    \t0.000319846\t5.42101e-20\t0.000319846\t0.000319846\n",
      "40 \t91    \t0.000319846\t5.42101e-20\t0.000319846\t0.000319846\n"
     ]
    }
   ],
   "source": [
    "n=100\n",
    "\n",
    "pop = toolbox.population(n=n)\n",
    "hof = tools.HallOfFame(1)\n",
    "\n",
    "pop_stats = tools.Statistics(lambda ind: ind.fitness.values)\n",
    "pop_stats.register(\"avg\", np.mean)\n",
    "pop_stats.register(\"std\", np.std)\n",
    "pop_stats.register(\"min\", np.min)\n",
    "pop_stats.register(\"max\", np.max)\n",
    "    \n",
    "pop, logbook = algorithms.eaMuPlusLambda(pop, toolbox, mu=n, lambda_=n, \n",
    "        cxpb=0.6, mutpb=0.3, ngen=40, stats=pop_stats, halloffame=hof)"
   ]
  },
  {
   "cell_type": "code",
   "execution_count": 63,
   "metadata": {},
   "outputs": [
    {
     "name": "stderr",
     "output_type": "stream",
     "text": [
      "<ipython-input-34-87099329b85c>:23: UserWarning: The following kwargs were not used by contour: 'rstride', 'cstride', 'linewidth'\n",
      "  cset = ax.contourf(X, Y, Z, cmap=cmap, rstride=rstride, cstride=cstride, linewidth=linewidth, alpha=alpha)\n"
     ]
    },
    {
     "data": {
      "image/png": "[encoded data removed]",
      "text/plain": [
       "<Figure size 432x432 with 1 Axes>"
      ]
     },
     "metadata": {
      "needs_background": "light"
     },
     "output_type": "display_data"
    }
   ],
   "source": [
    "plot_problem_controur(current_problem, ((-10,-10), (10,10)), optimum=(0,0))\n",
    "plot_population(pop)"
   ]
  },
  {
   "cell_type": "code",
   "execution_count": 64,
   "metadata": {},
   "outputs": [
    {
     "name": "stdout",
     "output_type": "stream",
     "text": [
      "gen\tnevals\tavg    \tstd    \tmin     \tmax    \n",
      "0  \t500   \t68.6996\t42.7201\t0.167804\t194.884\n",
      "1  \t441   \t32.5327\t26.1828\t0.167804\t145.52 \n",
      "2  \t461   \t12.5907\t13.4743\t0.165045\t105.602\n",
      "3  \t444   \t3.75661\t4.73778\t0.00678164\t31.7955\n",
      "4  \t449   \t1.00378\t1.17638\t0.00678164\t9.3143 \n",
      "5  \t444   \t0.334662\t0.29779\t0.00678164\t1.92024\n",
      "6  \t455   \t0.134696\t0.10517\t0.00678164\t0.607821\n",
      "7  \t453   \t0.0576483\t0.0559525\t0.000399988\t0.279104\n",
      "8  \t450   \t0.0198021\t0.0292485\t0.000399988\t0.149616\n",
      "9  \t452   \t0.00661421\t0.00338313\t0.000399988\t0.039898\n",
      "10 \t442   \t0.00545075\t0.00235645\t0.000399988\t0.00678164\n",
      "11 \t466   \t0.00382694\t0.0056107 \t0.000399988\t0.110878  \n",
      "12 \t459   \t0.00140666\t0.00202799\t0.000399988\t0.00678164\n",
      "13 \t455   \t0.000477913\t0.000631177\t0.000399988\t0.00678164\n",
      "14 \t450   \t0.000396697\t3.27474e-05\t7.08643e-05\t0.000399988\n",
      "15 \t453   \t0.000393378\t4.6268e-05 \t6.4111e-05 \t0.000399988\n",
      "16 \t447   \t0.000377527\t8.31583e-05\t6.4111e-05 \t0.000399988\n",
      "17 \t443   \t0.000382787\t0.000980867\t6.4111e-05 \t0.0221081  \n",
      "18 \t451   \t0.000539898\t0.00655613 \t6.4111e-05 \t0.146947   \n",
      "19 \t449   \t0.000126609\t0.000126104\t6.4111e-05 \t0.000399988\n",
      "20 \t442   \t6.8652e-05 \t2.59483e-05\t6.4111e-05 \t0.000399988\n",
      "21 \t453   \t6.46378e-05\t1.81103e-06\t6.4111e-05 \t7.08643e-05\n",
      "22 \t448   \t6.41246e-05\t3.01712e-07\t6.4111e-05 \t7.08643e-05\n",
      "23 \t451   \t6.4111e-05 \t0          \t6.4111e-05 \t6.4111e-05 \n",
      "24 \t456   \t6.4111e-05 \t0          \t6.4111e-05 \t6.4111e-05 \n",
      "25 \t459   \t6.4111e-05 \t0          \t6.4111e-05 \t6.4111e-05 \n",
      "26 \t446   \t6.4111e-05 \t0          \t6.4111e-05 \t6.4111e-05 \n",
      "27 \t439   \t6.4111e-05 \t0          \t6.4111e-05 \t6.4111e-05 \n",
      "28 \t444   \t6.4111e-05 \t0          \t6.4111e-05 \t6.4111e-05 \n",
      "29 \t441   \t6.39853e-05\t2.80886e-06\t1.24008e-06\t6.4111e-05 \n",
      "30 \t441   \t6.39853e-05\t2.80886e-06\t1.24008e-06\t6.4111e-05 \n",
      "31 \t433   \t6.39853e-05\t2.80886e-06\t1.24008e-06\t6.4111e-05 \n",
      "32 \t461   \t6.39853e-05\t2.80886e-06\t1.24008e-06\t6.4111e-05 \n",
      "33 \t461   \t6.36081e-05\t5.60081e-06\t1.24008e-06\t6.4111e-05 \n",
      "34 \t456   \t6.32309e-05\t7.38674e-06\t1.24008e-06\t6.4111e-05 \n",
      "35 \t448   \t0.00136015 \t0.0289966  \t4.87435e-07\t0.649094   \n",
      "36 \t454   \t5.81756e-05\t1.84273e-05\t4.87435e-07\t6.4111e-05 \n",
      "37 \t452   \t4.87058e-05\t2.71171e-05\t4.87435e-07\t6.4111e-05 \n",
      "38 \t454   \t3.07571e-05\t3.15367e-05\t4.87435e-07\t6.4111e-05 \n",
      "39 \t465   \t8.1583e-06 \t2.02717e-05\t4.87435e-07\t6.4111e-05 \n",
      "40 \t461   \t5.83774e-07\t2.51452e-07\t4.87435e-07\t1.24008e-06\n"
     ]
    }
   ],
   "source": [
    "n=500\n",
    "\n",
    "pop = toolbox.population(n=n)\n",
    "hof = tools.HallOfFame(1)\n",
    "\n",
    "pop_stats = tools.Statistics(lambda ind: ind.fitness.values)\n",
    "pop_stats.register(\"avg\", np.mean)\n",
    "pop_stats.register(\"std\", np.std)\n",
    "pop_stats.register(\"min\", np.min)\n",
    "pop_stats.register(\"max\", np.max)\n",
    "    \n",
    "pop, logbook = algorithms.eaMuPlusLambda(pop, toolbox, mu=n, lambda_=n, \n",
    "        cxpb=0.6, mutpb=0.3, ngen=40, stats=pop_stats, halloffame=hof)"
   ]
  },
  {
   "cell_type": "code",
   "execution_count": 65,
   "metadata": {},
   "outputs": [
    {
     "name": "stderr",
     "output_type": "stream",
     "text": [
      "<ipython-input-34-87099329b85c>:23: UserWarning: The following kwargs were not used by contour: 'rstride', 'cstride', 'linewidth'\n",
      "  cset = ax.contourf(X, Y, Z, cmap=cmap, rstride=rstride, cstride=cstride, linewidth=linewidth, alpha=alpha)\n"
     ]
    },
    {
     "data": {
      "image/png": "[encoded data removed]",
      "text/plain": [
       "<Figure size 432x432 with 1 Axes>"
      ]
     },
     "metadata": {
      "needs_background": "light"
     },
     "output_type": "display_data"
    }
   ],
   "source": [
    "plot_problem_controur(current_problem, ((-10,-10), (10,10)), optimum=(0,0))\n",
    "plot_population(pop)"
   ]
  },
  {
   "cell_type": "code",
   "execution_count": 66,
   "metadata": {},
   "outputs": [
    {
     "name": "stdout",
     "output_type": "stream",
     "text": [
      "gen\tnevals\tavg    \tstd    \tmin     \tmax    \n",
      "0  \t1000  \t66.6842\t43.9629\t0.164154\t197.039\n",
      "1  \t904   \t31.0183\t24.3986\t0.164154\t123.389\n",
      "2  \t904   \t12.6713\t11.4943\t0.0851002\t77.5929\n",
      "3  \t889   \t4.64483\t4.58064\t0.0851002\t27.9252\n",
      "4  \t904   \t1.58825\t1.53165\t0.00289353\t10.7985\n",
      "5  \t904   \t0.522981\t0.502433\t0.00289353\t3.65981\n",
      "6  \t903   \t0.222983\t0.172081\t0.00289353\t1.55046\n",
      "7  \t888   \t0.115564\t0.0743024\t0.00151637\t0.46143\n",
      "8  \t900   \t0.0570586\t0.0442341\t0.00151637\t0.380667\n",
      "9  \t902   \t0.0223478\t0.0239419\t9.67956e-05\t0.164076\n",
      "10 \t894   \t0.00758508\t0.00672364\t9.67956e-05\t0.0730449\n",
      "11 \t917   \t0.00334649\t0.00266513\t9.67956e-05\t0.0174308\n",
      "12 \t890   \t0.0021077 \t0.00103061\t9.67956e-05\t0.00938351\n",
      "13 \t898   \t0.00129113\t0.000818833\t9.67956e-05\t0.00307819\n",
      "14 \t901   \t0.000712356\t0.000443331\t8.1872e-05 \t0.00289353\n",
      "15 \t909   \t0.000399382\t0.000380284\t8.1872e-05 \t0.00289353\n",
      "16 \t891   \t0.000150369\t0.000187439\t8.1872e-05 \t0.000894087\n",
      "17 \t910   \t9.84504e-05\t4.10739e-05\t4.15697e-05\t0.000894087\n",
      "18 \t905   \t9.49987e-05\t7.11537e-06\t4.15697e-05\t9.67956e-05\n",
      "19 \t917   \t9.22498e-05\t1.05275e-05\t4.15697e-05\t9.67956e-05\n",
      "20 \t901   \t8.6126e-05 \t1.55026e-05\t4.15697e-05\t0.000230598\n",
      "21 \t894   \t7.5751e-05 \t1.77229e-05\t4.15697e-05\t9.67956e-05\n",
      "22 \t896   \t6.1996e-05 \t2.04879e-05\t1.92035e-05\t9.67956e-05\n",
      "23 \t907   \t4.56246e-05\t1.62419e-05\t1.92035e-05\t8.1872e-05 \n",
      "24 \t891   \t3.55862e-05\t1.15108e-05\t1.92035e-05\t8.1872e-05 \n",
      "25 \t916   \t2.6783e-05 \t1.08059e-05\t2.57408e-07\t4.15697e-05\n",
      "26 \t908   \t1.97625e-05\t6.70474e-06\t2.57408e-07\t4.15697e-05\n",
      "27 \t907   \t1.96296e-05\t8.33438e-05\t2.57408e-07\t0.00264705 \n",
      "28 \t891   \t0.000197192\t0.00424705 \t2.57408e-07\t0.116868   \n",
      "29 \t895   \t7.99803e-06\t8.7229e-06 \t2.57408e-07\t1.92035e-05\n",
      "30 \t909   \t2.15279e-06\t4.63808e-06\t2.57408e-07\t1.92035e-05\n",
      "31 \t919   \t4.42406e-07\t7.76779e-07\t2.57408e-07\t1.92035e-05\n",
      "32 \t904   \t2.57408e-07\t5.29396e-23\t2.57408e-07\t2.57408e-07\n",
      "33 \t904   \t2.57408e-07\t5.29396e-23\t2.57408e-07\t2.57408e-07\n",
      "34 \t912   \t2.57408e-07\t5.29396e-23\t2.57408e-07\t2.57408e-07\n",
      "35 \t896   \t2.57408e-07\t5.29396e-23\t2.57408e-07\t2.57408e-07\n",
      "36 \t897   \t2.57408e-07\t5.29396e-23\t2.57408e-07\t2.57408e-07\n",
      "37 \t893   \t2.57408e-07\t5.29396e-23\t2.57408e-07\t2.57408e-07\n",
      "38 \t901   \t0.000206684\t0.00482841 \t2.57408e-07\t0.13523    \n",
      "39 \t912   \t2.57408e-07\t5.29396e-23\t2.57408e-07\t2.57408e-07\n",
      "40 \t927   \t2.57408e-07\t5.29396e-23\t2.57408e-07\t2.57408e-07\n"
     ]
    }
   ],
   "source": [
    "n=1000\n",
    "\n",
    "pop = toolbox.population(n=n)\n",
    "hof = tools.HallOfFame(1)\n",
    "\n",
    "pop_stats = tools.Statistics(lambda ind: ind.fitness.values)\n",
    "pop_stats.register(\"avg\", np.mean)\n",
    "pop_stats.register(\"std\", np.std)\n",
    "pop_stats.register(\"min\", np.min)\n",
    "pop_stats.register(\"max\", np.max)\n",
    "    \n",
    "pop, logbook = algorithms.eaMuPlusLambda(pop, toolbox, mu=n, lambda_=n, \n",
    "        cxpb=0.6, mutpb=0.3, ngen=40, stats=pop_stats, halloffame=hof)"
   ]
  },
  {
   "cell_type": "code",
   "execution_count": 67,
   "metadata": {},
   "outputs": [
    {
     "name": "stderr",
     "output_type": "stream",
     "text": [
      "<ipython-input-34-87099329b85c>:23: UserWarning: The following kwargs were not used by contour: 'rstride', 'cstride', 'linewidth'\n",
      "  cset = ax.contourf(X, Y, Z, cmap=cmap, rstride=rstride, cstride=cstride, linewidth=linewidth, alpha=alpha)\n"
     ]
    },
    {
     "data": {
      "image/png": "[encoded data removed]",
      "text/plain": [
       "<Figure size 432x432 with 1 Axes>"
      ]
     },
     "metadata": {
      "needs_background": "light"
     },
     "output_type": "display_data"
    }
   ],
   "source": [
    "plot_problem_controur(current_problem, ((-10,-10), (10,10)), optimum=(0,0))\n",
    "plot_population(pop)"
   ]
  },
  {
   "cell_type": "code",
   "execution_count": 68,
   "metadata": {},
   "outputs": [
    {
     "name": "stdout",
     "output_type": "stream",
     "text": [
      "gen\tnevals\tavg    \tstd    \tmin       \tmax    \n",
      "0  \t5000  \t68.2857\t41.5705\t0.00101717\t198.447\n",
      "1  \t4527  \t33.263 \t24.8771\t0.0194511 \t151.033\n",
      "2  \t4522  \t13.5341\t11.7924\t0.0104171 \t89.1556\n",
      "3  \t4543  \t5.01198\t4.81547\t0.00052661\t44.4287\n",
      "4  \t4523  \t1.64193\t1.69204\t0.00052661\t14.4276\n",
      "5  \t4510  \t0.539554\t0.56539\t0.000259693\t4.53938\n",
      "6  \t4519  \t0.178341\t0.197713\t0.000259693\t2.80107\n",
      "7  \t4505  \t0.0563976\t0.0620687\t9.28369e-05\t0.717437\n",
      "8  \t4512  \t0.0202031\t0.0228175\t1.28132e-05\t0.668105\n",
      "9  \t4512  \t0.00744242\t0.00685905\t1.28132e-05\t0.0748164\n",
      "10 \t4469  \t0.00281329\t0.00287448\t1.04272e-05\t0.0223827\n",
      "11 \t4496  \t0.000935502\t0.00104252\t1.04272e-05\t0.00956376\n",
      "12 \t4493  \t0.000692612\t0.024273  \t6.25014e-06\t1.71675   \n",
      "13 \t4511  \t0.000167701\t0.000327966\t6.25014e-06\t0.0202171 \n",
      "14 \t4504  \t8.20356e-05\t6.49981e-05\t5.16612e-06\t0.000425387\n",
      "15 \t4475  \t5.93835e-05\t0.00181199 \t5.16612e-06\t0.128146   \n",
      "16 \t4481  \t1.64973e-05\t9.71197e-05\t3.04725e-06\t0.00685505 \n",
      "17 \t4546  \t1.04813e-05\t4.21033e-06\t1.89413e-07\t9.28369e-05\n",
      "18 \t4517  \t4.6969e-05 \t0.00212914 \t1.89413e-07\t0.13877    \n",
      "19 \t4496  \t6.12175e-06\t9.8053e-07 \t1.89413e-07\t1.28132e-05\n",
      "20 \t4496  \t5.66029e-06\t8.34733e-07\t1.89413e-07\t1.04272e-05\n",
      "21 \t4488  \t0.000130093\t0.0073781  \t1.89413e-07\t0.508593   \n",
      "22 \t4502  \t2.62604e-05\t0.00155099 \t1.89413e-07\t0.109687   \n",
      "23 \t4483  \t2.45763e-05\t0.0014928  \t1.89413e-07\t0.105571   \n",
      "24 \t4532  \t2.44779e-05\t0.00153326 \t1.89413e-07\t0.108431   \n",
      "25 \t4491  \t2.37355e-05\t0.00152337 \t1.89413e-07\t0.107731   \n",
      "26 \t4524  \t1.269e-06  \t1.34305e-06\t1.89413e-07\t3.04725e-06\n",
      "27 \t4496  \t0.000191092\t0.00907592 \t1.89413e-07\t0.508493   \n",
      "28 \t4487  \t5.25612e-06\t0.000357611\t1.89413e-07\t0.0252896  \n",
      "29 \t4508  \t4.05035e-05\t0.00285035 \t1.89413e-07\t0.201571   \n",
      "30 \t4484  \t4.68227e-06\t0.000317661\t1.89413e-07\t0.0224645  \n",
      "31 \t4508  \t1.09386e-06\t6.39478e-05\t1.89413e-07\t0.00452244 \n",
      "32 \t4468  \t0.000129935\t0.00915969 \t1.26439e-07\t0.647752   \n",
      "33 \t4473  \t3.30014e-06\t0.000219946\t1.26439e-07\t0.0155543  \n",
      "34 \t4502  \t1.89161e-07\t3.97486e-09\t1.26439e-07\t1.89413e-07\n",
      "35 \t4529  \t1.88557e-07\t7.29387e-09\t1.26439e-07\t1.89413e-07\n",
      "36 \t4485  \t0.000165108\t0.0109569  \t1.26439e-07\t0.773144   \n",
      "37 \t4519  \t4.86386e-05\t0.00332583 \t1.26439e-07\t0.235087   \n",
      "38 \t4495  \t1.72108e-07\t2.81006e-08\t1.26439e-07\t1.89413e-07\n",
      "39 \t4474  \t1.51725e-07\t3.0864e-08 \t1.26439e-07\t1.89413e-07\n",
      "40 \t4518  \t1.31328e-07\t1.68857e-08\t7.65317e-08\t1.89413e-07\n"
     ]
    }
   ],
   "source": [
    "n=5000\n",
    "\n",
    "pop = toolbox.population(n=n)\n",
    "hof = tools.HallOfFame(1)\n",
    "\n",
    "pop_stats = tools.Statistics(lambda ind: ind.fitness.values)\n",
    "pop_stats.register(\"avg\", np.mean)\n",
    "pop_stats.register(\"std\", np.std)\n",
    "pop_stats.register(\"min\", np.min)\n",
    "pop_stats.register(\"max\", np.max)\n",
    "    \n",
    "pop, logbook = algorithms.eaMuPlusLambda(pop, toolbox, mu=n, lambda_=n, \n",
    "        cxpb=0.6, mutpb=0.3, ngen=40, stats=pop_stats, halloffame=hof)"
   ]
  },
  {
   "cell_type": "code",
   "execution_count": 69,
   "metadata": {},
   "outputs": [
    {
     "name": "stderr",
     "output_type": "stream",
     "text": [
      "<ipython-input-34-87099329b85c>:23: UserWarning: The following kwargs were not used by contour: 'rstride', 'cstride', 'linewidth'\n",
      "  cset = ax.contourf(X, Y, Z, cmap=cmap, rstride=rstride, cstride=cstride, linewidth=linewidth, alpha=alpha)\n"
     ]
    },
    {
     "data": {
      "image/png": "[encoded data removed]",
      "text/plain": [
       "<Figure size 432x432 with 1 Axes>"
      ]
     },
     "metadata": {
      "needs_background": "light"
     },
     "output_type": "display_data"
    }
   ],
   "source": [
    "plot_problem_controur(current_problem, ((-10,-10), (10,10)), optimum=(0,0))\n",
    "plot_population(pop)"
   ]
  }
 ],
 "metadata": {
  "interpreter": {
   "hash": "aee8b7b246df8f9039afb4144a1f6fd8d2ca17a180786b69acc140d282b71a49"
  },
  "kernelspec": {
   "display_name": "Python 3.9.7 64-bit",
   "name": "python3"
  },
  "language_info": {
   "codemirror_mode": {
    "name": "ipython",
    "version": 3
   },
   "file_extension": ".py",
   "mimetype": "text/x-python",
   "name": "python",
   "nbconvert_exporter": "python",
   "pygments_lexer": "ipython3",
   "version": "3.9.9"
  },
  "orig_nbformat": 4
 },
 "nbformat": 4,
 "nbformat_minor": 2
}
