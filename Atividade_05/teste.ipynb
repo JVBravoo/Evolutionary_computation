{
 "cells": [
  {
   "cell_type": "code",
   "execution_count": 20,
   "metadata": {},
   "outputs": [
    {
     "name": "stdout",
     "output_type": "stream",
     "text": [
      "([-0.564309791778485, -2.2316334936701177, 0.37177714706497444, 1.3000961215814224, -0.8547783996003566, -1.5940489817690016, -1.0303051526239488, 2.924480175441704, 1.2116037731945075, 1.1828960421706551, 2.8490613471424933, -2.101318614855473, -0.8454754215830533, -0.26307675179816425, 0.5604508906617165, -1.1401977018748108, -0.5702843120530593, -0.6873460153953103, 0.5127730885628036, -5.361528158839587, -1.718224711719311, -2.649583736693118, -1.257764194832763, 1.293182843462235, -1.1934400723972987, -0.7472735284907464, -0.12244315130525774, -0.4762220364127525, 1.0478316007045247, -1.5321476818329947, 3.0328022490751576, -0.4452617341105034, 1.871620485997203, 3.0580426224286774, -0.6686263373602067, -3.520553832219329, 1.4586474607127773, 4.441571606962049, -1.645523889040923, -0.941426383979165, -0.23810292074346456, 1.3293411395086359, 2.2082735061363215, 2.45438294823354, 0.2802397282421123, -0.9216093203909992, 1.0072568022082369, -2.0791555610815338, -1.5130847682090425, -0.9228347109221566, 2.421766899470769, 0.8636408371572017, 0.41924460870104396, -0.1934420155716253, 1.8180533338896412, 0.748718961960384, 2.2002964968522907, -0.27507630447001685, -0.5088690478797248, 0.5426422516931886, -1.2925043392311988, 0.2324023663493654, -0.6777555626094954, -0.042082795706600784, 2.0424137168724927, -1.6789098984881505, 1.8148213867580036, 0.5536927690407352, 3.12767666993785, 0.7519315270387934, 2.0829824822168193, 1.3427707494946053, 0.4593626099112247, -1.4447976224990484, 1.5874015059739892, 0.6488366840293666, -0.6094449567842768, -1.6456616780083573, 2.6795586649885297, -0.05926115604093568, -0.14512440172905794, -2.1094601919856633, 1.120294738361681, 1.0109217832339987, -0.10790314071590634, -3.857974764083635, -1.3344624989108698, -2.495340672260353, 2.0948887913977643, -1.133020292915751, -0.8721916182903383, -0.5401831919971404, -1.3376034825288463, 2.413644341484698, -1.4148582170567212, -0.6608875533248677, 2.0052358750823847, -2.0200432781074062, -0.5625657639672266, -0.7812078942476874], 285.57243514324546)\n"
     ]
    }
   ],
   "source": [
    "import random as rand\n",
    "'''Normal distribution import'''\n",
    "from scipy.stats import norm\n",
    "\n",
    "rand.seed(42)\n",
    "n = 100\n",
    "gen = 10000\n",
    "\n",
    "def evaluate (individual):\n",
    "    '''Evaluate the fitness of an individual'''\n",
    "    new_ind = []\n",
    "    for i in range(len(individual)):\n",
    "        new_ind.append(individual[i]**2)\n",
    "    return sum(new_ind)\n",
    "\n",
    "'''Mutate using normal distribution'''\n",
    "def mutate (individual):\n",
    "    '''Mutate an individual'''\n",
    "    new_individual = []\n",
    "    for i in range(len(individual)):\n",
    "        new_individual.append(individual[i] + norm.rvs(0,1))\n",
    "    return new_individual\n",
    "\n",
    "'''(1 + 1) ES Implementation'''\n",
    "def es ():\n",
    "    '''(1 + 1) ES'''\n",
    "    '''Initialize the population'''\n",
    "    individual = []\n",
    "    for j in range(n):\n",
    "        individual.append(rand.uniform(-100,100))\n",
    "    '''Evaluate the fitness of the population'''\n",
    "    fitness = evaluate(individual)\n",
    "    '''Initialize the best individual'''\n",
    "    parent = individual\n",
    "    '''Initialize the best fitness'''\n",
    "    parent_fitness = fitness\n",
    "    '''Initialize the generation'''\n",
    "    for i in range(gen):\n",
    "        son = mutate(parent)\n",
    "        son_fitness = evaluate(son)\n",
    "        if son_fitness > 0 :\n",
    "            if son_fitness < parent_fitness:\n",
    "                parent = son\n",
    "                parent_fitness = son_fitness\n",
    "        else:\n",
    "            if parent_fitness < son_fitness:\n",
    "                parent = son\n",
    "                parent_fitness = son_fitness\n",
    "    return parent, parent_fitness\n",
    "\n",
    "print(es())\n",
    "\n"
   ]
  },
  {
   "cell_type": "code",
   "execution_count": 21,
   "metadata": {},
   "outputs": [
    {
     "data": {
      "text/plain": [
       "[-87.5, 50, 33, -20, 10]"
      ]
     },
     "execution_count": 21,
     "metadata": {},
     "output_type": "execute_result"
    }
   ],
   "source": []
  }
 ],
 "metadata": {
  "interpreter": {
   "hash": "33245f943a08e770773579a832d29284b103f4f52ecabefe7ebd4715f12a932d"
  },
  "kernelspec": {
   "display_name": "Python 3.9.5 64-bit",
   "name": "python3"
  },
  "language_info": {
   "codemirror_mode": {
    "name": "ipython",
    "version": 3
   },
   "file_extension": ".py",
   "mimetype": "text/x-python",
   "name": "python",
   "nbconvert_exporter": "python",
   "pygments_lexer": "ipython3",
   "version": "3.9.9"
  },
  "orig_nbformat": 4
 },
 "nbformat": 4,
 "nbformat_minor": 2
}
