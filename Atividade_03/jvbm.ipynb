{
 "cells": [
  {
   "cell_type": "markdown",
   "source": [
    "# Atividade 3"
   ],
   "metadata": {}
  },
  {
   "cell_type": "code",
   "execution_count": null,
   "source": [
    "# https://www.cin.ufpe.br/~cmvl/segundo.semestre/computacao.evolucionaria/CE-algoritmos-geneticos.pdf\n",
    "\n",
    "# Resolução da atividade em: \n",
    "# /Documents/Code/Python/algoritmos_evolucionarios/Evolutionary_computation/Atividade_03/atividade_03.docx"
   ],
   "outputs": [],
   "metadata": {}
  }
 ],
 "metadata": {
  "orig_nbformat": 4,
  "language_info": {
   "name": "python"
  }
 },
 "nbformat": 4,
 "nbformat_minor": 2
}